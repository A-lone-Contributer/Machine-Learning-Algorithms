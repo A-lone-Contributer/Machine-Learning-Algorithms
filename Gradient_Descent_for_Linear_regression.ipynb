{
  "nbformat": 4,
  "nbformat_minor": 0,
  "metadata": {
    "kernelspec": {
      "display_name": "Python 3",
      "language": "python",
      "name": "python3"
    },
    "language_info": {
      "codemirror_mode": {
        "name": "ipython",
        "version": 3
      },
      "file_extension": ".py",
      "mimetype": "text/x-python",
      "name": "python",
      "nbconvert_exporter": "python",
      "pygments_lexer": "ipython3",
      "version": "3.7.6"
    },
    "colab": {
      "name": "Gradient Descent for Linear regression.ipynb",
      "provenance": [],
      "collapsed_sections": [],
      "include_colab_link": true
    }
  },
  "cells": [
    {
      "cell_type": "markdown",
      "metadata": {
        "id": "view-in-github",
        "colab_type": "text"
      },
      "source": [
        "<a href=\"https://colab.research.google.com/github/A-lone-Contributer/Machine-Learning-Algorithms/blob/master/Gradient_Descent_for_Linear_regression.ipynb\" target=\"_parent\"><img src=\"https://colab.research.google.com/assets/colab-badge.svg\" alt=\"Open In Colab\"/></a>"
      ]
    },
    {
      "cell_type": "markdown",
      "metadata": {
        "id": "AAOoChfhhWaz",
        "colab_type": "text"
      },
      "source": [
        "# Gradient Descent for Linear Regression"
      ]
    },
    {
      "cell_type": "code",
      "metadata": {
        "id": "sRkc9--bZbNT",
        "colab_type": "code",
        "colab": {}
      },
      "source": [
        "# Loading the libraries\n",
        "\n",
        "import numpy as np\n",
        "import matplotlib.pyplot as plt"
      ],
      "execution_count": 0,
      "outputs": []
    },
    {
      "cell_type": "code",
      "metadata": {
        "id": "fvQO6-z7ZbNh",
        "colab_type": "code",
        "colab": {}
      },
      "source": [
        "# creating random data \n",
        "\n",
        "X = 2 * np.random.rand(100, 1)\n",
        "y = 4 + 3 * X + np.random.randn(100, 1)"
      ],
      "execution_count": 0,
      "outputs": []
    },
    {
      "cell_type": "code",
      "metadata": {
        "id": "nhXXHfgwZbNs",
        "colab_type": "code",
        "colab": {}
      },
      "source": [
        "# adding a column of 1's to the data as the linear regression equation is\n",
        "# y(hat) = θ0 + θ1x1 + θ2x2+ ⋯ + θnxn\n",
        "\n",
        "X_new = np.append(arr = np.ones((100,1)).astype(int), values = X, axis = 1 )"
      ],
      "execution_count": 0,
      "outputs": []
    },
    {
      "cell_type": "code",
      "metadata": {
        "id": "iw4mvZN3ZbN3",
        "colab_type": "code",
        "outputId": "63601eb2-8e81-4893-935c-79c083760806",
        "colab": {
          "base_uri": "https://localhost:8080/",
          "height": 283
        }
      },
      "source": [
        "# plotting the data we generated to check if it has linear trend \n",
        "\n",
        "plt.scatter(X,y)\n",
        "plt.xlabel(\"X\")\n",
        "plt.ylabel(\"Y\")\n",
        "plt.show()"
      ],
      "execution_count": 0,
      "outputs": [
        {
          "output_type": "display_data",
          "data": {
            "image/png": "[encoded data removed]",
            "text/plain": [
              "<Figure size 432x288 with 1 Axes>"
            ]
          },
          "metadata": {
            "tags": [],
            "needs_background": "light"
          }
        }
      ]
    },
    {
      "cell_type": "markdown",
      "metadata": {
        "id": "U7Jzhj8Fbrhj",
        "colab_type": "text"
      },
      "source": [
        "## Maths behind Gradient Descent\n",
        "\n",
        "**https://mccormickml.com/2014/03/04/gradient-descent-derivation/**"
      ]
    },
    {
      "cell_type": "code",
      "metadata": {
        "id": "0fD404N9ZbOC",
        "colab_type": "code",
        "outputId": "4cda2dc0-e156-4601-abc4-afda2745799f",
        "colab": {
          "base_uri": "https://localhost:8080/",
          "height": 50
        }
      },
      "source": [
        "# Implementation using gradient vector\n",
        "\n",
        "learning_rate = 0.001  # learning rate of Gradient descent\n",
        "n_iterations = 1000  # number of iterations\n",
        "m = float(len(X)) # number of rows\n",
        "\n",
        "# Step 1: Random intialisation\n",
        "theta = np.random.randn(2,1) \n",
        "\n",
        "# Calculate gradient at each step and update the theta value(parameter vector)\n",
        "for i in range(n_iterations):\n",
        "    \n",
        "    gradients = 2/m*X_new.T.dot(X_new.dot(theta) - y)\n",
        "    theta = theta - learning_rate*gradients\n",
        "    \n",
        "theta"
      ],
      "execution_count": 0,
      "outputs": [
        {
          "output_type": "execute_result",
          "data": {
            "text/plain": [
              "array([[3.64549191],\n",
              "       [3.31433449]])"
            ]
          },
          "metadata": {
            "tags": []
          },
          "execution_count": 5
        }
      ]
    },
    {
      "cell_type": "code",
      "metadata": {
        "id": "XQ6lVKnJZbOM",
        "colab_type": "code",
        "outputId": "641c5a08-fee1-400c-c167-fe98e0073d26",
        "colab": {
          "base_uri": "https://localhost:8080/",
          "height": 269
        }
      },
      "source": [
        "# plotting the results obtained using gradient descent against\n",
        "# the original plot \n",
        "\n",
        "# fetching the local minima value(θ1) and bias term (θ0)\n",
        "# y(hat) = θ0 + θ1x1 (as X as only 1 feature)\n",
        "optimal_x = theta.ravel()[0]\n",
        "optimal_x0 = theta.ravel()[1]\n",
        "\n",
        "# predicting the values \n",
        "y_pred = optimal_x*X+ optimal_x0\n",
        "\n",
        "# plotting the original and out Gradient descent fitted model\n",
        "plt.scatter(X,y)\n",
        "plt.plot([min(X), max(X)], [min(y_pred), max(y_pred)], color = 'red')\n",
        "plt.show()"
      ],
      "execution_count": 0,
      "outputs": [
        {
          "output_type": "display_data",
          "data": {
            "image/png": "[encoded data removed]",
            "text/plain": [
              "<Figure size 432x288 with 1 Axes>"
            ]
          },
          "metadata": {
            "tags": [],
            "needs_background": "light"
          }
        }
      ]
    },
    {
      "cell_type": "markdown",
      "metadata": {
        "id": "a0FxBUeZezLI",
        "colab_type": "text"
      },
      "source": [
        "### Another Implementation using Derivatives"
      ]
    },
    {
      "cell_type": "code",
      "metadata": {
        "id": "OvMUvTxLZbOg",
        "colab_type": "code",
        "outputId": "ea9d04ca-0793-4b81-bd52-11b6593f93b5",
        "colab": {
          "base_uri": "https://localhost:8080/",
          "height": 34
        }
      },
      "source": [
        "# Building the model\n",
        "optimal_x = 0\n",
        "optimal_x0 = 0\n",
        "\n",
        "learning_rate = 0.001  # The learning Rate\n",
        "iterations = 1000  # The number of iterations to perform gradient descent\n",
        "\n",
        "n = float(len(X)) # Number of elements in X\n",
        "\n",
        "# Performing Gradient Descent \n",
        "for i in range(iterations): \n",
        "\n",
        "    # The current predicted value of Y\n",
        "    y_pred = optimal_x * X + optimal_x0\n",
        "\n",
        "    # Derivative wrt x\n",
        "    partial_derivative_x = (-2/n) * sum(X * (y - y_pred))\n",
        "\n",
        "    # Derivative wrt x0\n",
        "    partial_derivative_x0 = (-2/n) * sum(y - y_pred) \n",
        "\n",
        "    # Update optimal_x\n",
        "    optimal_x = optimal_x - learning_rate * partial_derivative_x\n",
        "\n",
        "     # Update optimal_x0\n",
        "    optimal_x0 = optimal_x0 - learning_rate * partial_derivative_x0\n",
        "    \n",
        "print (optimal_x, optimal_x0)"
      ],
      "execution_count": 0,
      "outputs": [
        {
          "output_type": "stream",
          "text": [
            "[3.53069191] [3.40323709]\n"
          ],
          "name": "stdout"
        }
      ]
    },
    {
      "cell_type": "code",
      "metadata": {
        "id": "P6BRfdMRZbOn",
        "colab_type": "code",
        "outputId": "b8af8f56-437f-41bd-815c-810fb625b3c9",
        "colab": {
          "base_uri": "https://localhost:8080/",
          "height": 269
        }
      },
      "source": [
        "# predicting the values \n",
        "y_pred = optimal_x*X+ optimal_x0\n",
        "\n",
        "# plotting the original and out Gradient descent fitted model\n",
        "plt.scatter(X,y)\n",
        "plt.plot([min(X), max(X)], [min(y_pred), max(y_pred)], color = 'red')\n",
        "plt.show()"
      ],
      "execution_count": 0,
      "outputs": [
        {
          "output_type": "display_data",
          "data": {
            "image/png": "[encoded data removed]",
            "text/plain": [
              "<Figure size 432x288 with 1 Axes>"
            ]
          },
          "metadata": {
            "tags": [],
            "needs_background": "light"
          }
        }
      ]
    }
  ]
}
